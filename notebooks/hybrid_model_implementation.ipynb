{
 "cells": [
  {
   "cell_type": "code",
   "execution_count": 2,
   "metadata": {},
   "outputs": [],
   "source": [
    "import numpy as np\n",
    "import pandas as pd\n",
    "import pickle"
   ]
  },
  {
   "cell_type": "code",
   "execution_count": 3,
   "metadata": {},
   "outputs": [],
   "source": [
    "# Load preprocessed data\n",
    "content_based_data = pd.read_csv('../data/processed/content_based_data.csv')\n",
    "collaborative_filtering_data = pd.read_csv('../data/processed/collaborative_filtering_data.csv')"
   ]
  },
  {
   "cell_type": "code",
   "execution_count": 6,
   "metadata": {},
   "outputs": [],
   "source": [
    "# Load the collaborative filtering model\n",
    "with open('../models/collaborative_filtering_model.pkl', 'rb') as f:\n",
    "    collaborative_filtering_model = pickle.load(f)\n",
    "\n",
    "# Load precomputed cosine similarity matrix\n",
    "with open('../models/cosine_similarity_matrix.pkl', 'rb') as f:\n",
    "    cosine_sim = pickle.load(f)"
   ]
  },
  {
   "cell_type": "code",
   "execution_count": 7,
   "metadata": {},
   "outputs": [],
   "source": [
    "# Hybrid recommendation function\n",
    "def hybrid_recommendation(user_id, n=10, weight_content=0.5, weight_collab=0.5):\n",
    "    # Get movies the user has already rated\n",
    "    user_ratings = collaborative_filtering_data[collaborative_filtering_data['user_id'] == user_id]['item_id'].unique()\n",
    "    all_movies = collaborative_filtering_data['item_id'].unique()\n",
    "\n",
    "    # Get unseen movies\n",
    "    unrated_movies = [movie for movie in all_movies if movie not in user_ratings]\n",
    "    \n",
    "    # Predict ratings using collaborative filtering\n",
    "    collab_predictions = [collaborative_filtering_model.predict(user_id, movie_id).est for movie_id in unrated_movies]\n",
    "\n",
    "    # Get content-based recommendations using precomputed cosine similarity\n",
    "    content_predictions = [np.mean([cosine_sim[movie_idx][content_based_data[content_based_data['movie_id'] == movie].index[0]] \n",
    "                                   for movie_idx in user_ratings]) for movie in unrated_movies]\n",
    "    \n",
    "    # Hybrid prediction: weighted average of both predictions\n",
    "    hybrid_predictions = [(weight_content * content_pred + weight_collab * collab_pred) \n",
    "                          for content_pred, collab_pred in zip(content_predictions, collab_predictions)]\n",
    "    \n",
    "    # Get top N recommended movies\n",
    "    top_n_idx = np.argsort(hybrid_predictions)[-n:][::-1]\n",
    "    top_n_movies = [unrated_movies[idx] for idx in top_n_idx]\n",
    "    \n",
    "    return top_n_movies"
   ]
  },
  {
   "cell_type": "code",
   "execution_count": 8,
   "metadata": {},
   "outputs": [
    {
     "data": {
      "text/plain": [
       "[1189, 1639, 357, 134, 64, 1449, 1512, 1594, 178, 427]"
      ]
     },
     "execution_count": 8,
     "metadata": {},
     "output_type": "execute_result"
    }
   ],
   "source": [
    "recommendations = hybrid_recommendation(user_id=196, n=10)\n",
    "recommendations"
   ]
  },
  {
   "cell_type": "code",
   "execution_count": 10,
   "metadata": {},
   "outputs": [
    {
     "name": "stdout",
     "output_type": "stream",
     "text": [
      "Shawshank Redemption, The (1994)\n",
      "Citizen Kane (1941)\n",
      "12 Angry Men (1957)\n",
      "One Flew Over the Cuckoo's Nest (1975)\n",
      "To Kill a Mockingbird (1962)\n",
      "Prefontaine (1997)\n",
      "Pather Panchali (1955)\n",
      "World of Apu, The (Apur Sansar) (1959)\n",
      "Everest (1998)\n",
      "Bitter Sugar (Azucar Amargo) (1996)\n"
     ]
    }
   ],
   "source": [
    "# Get movie titles from recommendations\n",
    "def get_movie_titles(movie_ids):\n",
    "    return content_based_data[content_based_data['movie_id'].isin(movie_ids)]['movie_title'].tolist()\n",
    "\n",
    "# Test the hybrid model for a user\n",
    "recommendations = hybrid_recommendation(user_id=196, n=10)\n",
    "\n",
    "# Get the recommended movie titles\n",
    "recommended_movie_titles = get_movie_titles(recommendations)\n",
    "\n",
    "# Print the recommended movies\n",
    "for movie_title in recommended_movie_titles:\n",
    "    print(movie_title)"
   ]
  },
  {
   "cell_type": "code",
   "execution_count": null,
   "metadata": {},
   "outputs": [],
   "source": []
  }
 ],
 "metadata": {
  "kernelspec": {
   "display_name": "Python 3",
   "language": "python",
   "name": "python3"
  },
  "language_info": {
   "codemirror_mode": {
    "name": "ipython",
    "version": 3
   },
   "file_extension": ".py",
   "mimetype": "text/x-python",
   "name": "python",
   "nbconvert_exporter": "python",
   "pygments_lexer": "ipython3",
   "version": "3.11.3"
  }
 },
 "nbformat": 4,
 "nbformat_minor": 2
}
